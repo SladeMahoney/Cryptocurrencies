{
 "cells": [
  {
   "cell_type": "code",
   "execution_count": null,
   "metadata": {},
   "outputs": [],
   "source": [
    "https://stackoverflow.com/questions/51102205/how-to-know-the-labels-assigned-by-astypecategory-cat-codes\n",
    "\n",
    "https://pandas.pydata.org/pandas-docs/stable/user_guide/categorical.html\n",
    "\n",
    "https://medium.com/@urvashilluniya/convert-multiple-categorical-columns-into-numeric-columns-in-single-line-of-code-577bab825635\n",
    "\n",
    "https://stackoverflow.com/questions/38088652/pandas-convert-categories-to-numbers\n",
    "\n",
    "https://stackoverflow.com/questions/32011359/convert-categorical-data-in-pandas-dataframe\n",
    "\n",
    "https://stackoverflow.com/questions/48862002/using-cat-codes-within-a-for-loop\n",
    "\n",
    "https://stackoverflow.com/questions/30510562/get-mapping-of-categorical-variables-in-pandas\n",
    "\n",
    "https://stackoverflow.com/questions/32011359/convert-categorical-data-in-pandas-dataframe/32011969\n"
   ]
  }
 ],
 "metadata": {
  "kernelspec": {
   "display_name": "Python 3",
   "language": "python",
   "name": "python3"
  },
  "language_info": {
   "codemirror_mode": {
    "name": "ipython",
    "version": 3
   },
   "file_extension": ".py",
   "mimetype": "text/x-python",
   "name": "python",
   "nbconvert_exporter": "python",
   "pygments_lexer": "ipython3",
   "version": "3.7.6"
  }
 },
 "nbformat": 4,
 "nbformat_minor": 4
}
